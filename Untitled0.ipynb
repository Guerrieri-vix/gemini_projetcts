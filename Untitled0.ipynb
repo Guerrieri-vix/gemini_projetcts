{
  "nbformat": 4,
  "nbformat_minor": 0,
  "metadata": {
    "colab": {
      "provenance": [],
      "mount_file_id": "1btJ1BjqYiXnco8tdJIbi6-0kuji-CUzo",
      "authorship_tag": "ABX9TyM+fMlyLfBpr7OFyVMEvScj",
      "include_colab_link": true
    },
    "kernelspec": {
      "name": "python3",
      "display_name": "Python 3"
    },
    "language_info": {
      "name": "python"
    }
  },
  "cells": [
    {
      "cell_type": "markdown",
      "metadata": {
        "id": "view-in-github",
        "colab_type": "text"
      },
      "source": [
        "<a href=\"https://colab.research.google.com/github/Guerrieri-vix/gemini_projetcts/blob/main/Untitled0.ipynb\" target=\"_parent\"><img src=\"https://colab.research.google.com/assets/colab-badge.svg\" alt=\"Open In Colab\"/></a>"
      ]
    },
    {
      "cell_type": "code",
      "execution_count": 2,
      "metadata": {
        "colab": {
          "base_uri": "https://localhost:8080/",
          "height": 176
        },
        "id": "vKUuBzYUyGK_",
        "outputId": "8d3d17f7-f499-4470-9399-1e037402194b"
      },
      "outputs": [
        {
          "output_type": "stream",
          "name": "stdout",
          "text": [
            "Sim, alguns elementos da logomarca da VixMetaverso podem ser relacionados à blockchain, embora não de forma direta:\n",
            "\n",
            "* **Cubos Interconectados:**  A estrutura de cubos interconectados pode ser interpretada como uma representação simbólica da blockchain, que é essencialmente uma cadeia de blocos de dados interligados e seguros. Cada cubo poderia representar um bloco individual, enquanto as conexões entre eles simbolizam a natureza imutável e transparente da blockchain.\n",
            "* **Descentralização:** A forma descentralizada dos cubos, sem um ponto central de controle, pode ser uma referência à natureza descentralizada da tecnologia blockchain, onde nenhuma entidade única detém o poder. \n",
            "* **Segurança e Confiabilidade:** A solidez e a estrutura estável dos cubos podem simbolizar a segurança e a confiabilidade inerentes à blockchain, que é conhecida por sua resistência a adulterações e fraudes.\n",
            "\n",
            "É importante notar que essas são interpretações simbólicas, e a logomarca pode ter sido projetada com outras intenções em mente. No entanto, a conexão com a blockchain é plausível, especialmente considerando a associação da empresa com o metaverso, que muitas vezes utiliza a tecnologia blockchain para transações e propriedade digital. \n",
            "\n"
          ]
        }
      ],
      "source": [
        "\"\"\"\n",
        "At the command line, only need to run once to install the package via pip:\n",
        "\n",
        "$ pip install google-generativeai\n",
        "\"\"\"\n",
        "\n",
        "from pathlib import Path\n",
        "import hashlib\n",
        "import google.generativeai as genai\n",
        "\n",
        "genai.configure(api_key=\"kaiisSEe332Suyael\")\n",
        "\n",
        "# Set up the model\n",
        "generation_config = {\n",
        "  \"temperature\": 1,\n",
        "  \"top_p\": 0.95,\n",
        "  \"top_k\": 0,\n",
        "  \"max_output_tokens\": 8192,\n",
        "}\n",
        "\n",
        "safety_settings = [\n",
        "  {\n",
        "    \"category\": \"HARM_CATEGORY_HARASSMENT\",\n",
        "    \"threshold\": \"BLOCK_MEDIUM_AND_ABOVE\"\n",
        "  },\n",
        "  {\n",
        "    \"category\": \"HARM_CATEGORY_HATE_SPEECH\",\n",
        "    \"threshold\": \"BLOCK_MEDIUM_AND_ABOVE\"\n",
        "  },\n",
        "  {\n",
        "    \"category\": \"HARM_CATEGORY_SEXUALLY_EXPLICIT\",\n",
        "    \"threshold\": \"BLOCK_MEDIUM_AND_ABOVE\"\n",
        "  },\n",
        "  {\n",
        "    \"category\": \"HARM_CATEGORY_DANGEROUS_CONTENT\",\n",
        "    \"threshold\": \"BLOCK_MEDIUM_AND_ABOVE\"\n",
        "  },\n",
        "]\n",
        "\n",
        "model = genai.GenerativeModel(model_name=\"gemini-1.5-pro-latest\",\n",
        "                              generation_config=generation_config,\n",
        "                              safety_settings=safety_settings)\n",
        "\n",
        "uploaded_files = []\n",
        "def upload_if_needed(pathname: str) -> list[str]:\n",
        "  path = Path(pathname)\n",
        "  hash_id = hashlib.sha256(path.read_bytes()).hexdigest()\n",
        "  try:\n",
        "    existing_file = genai.get_file(name=hash_id)\n",
        "    return [existing_file.uri]\n",
        "  except:\n",
        "    pass\n",
        "  uploaded_files.append(genai.upload_file(path=path, display_name=hash_id))\n",
        "  return [uploaded_files[-1].uri]\n",
        "\n",
        "convo = model.start_chat(history=[\n",
        "  {\n",
        "    \"role\": \"user\",\n",
        "    \"parts\": upload_if_needed(\"/content/drive/MyDrive/vixmetaverso - cortado.jpg\")\n",
        "  },\n",
        "  {\n",
        "    \"role\": \"user\",\n",
        "    \"parts\": [\"qual a sua opinião sobre essa logomarca?\"]\n",
        "  },\n",
        "  {\n",
        "    \"role\": \"model\",\n",
        "    \"parts\": [\"A logomarca da VixMetaverso é interessante e transmite uma mensagem de modernidade e inovação. Aqui está uma análise dos seus elementos:\\n\\n* **Nome:** O nome \\\"VixMetaverso\\\" é uma combinação de \\\"Vix\\\" (que pode se referir à empresa ou a um conceito de visão) e \\\"Metaverso\\\", o que indica claramente a área de atuação da empresa. \\n* **Cores:** O azul e o vermelho são cores vibrantes e contrastantes que chamam a atenção. O azul pode transmitir confiança, tecnologia e profissionalismo, enquanto o vermelho pode representar energia, paixão e inovação.\\n* **Símbolo:** Os cubos em perspectiva criam uma sensação de profundidade e tridimensionalidade, o que pode ser uma referência ao metaverso, um espaço virtual tridimensional. A forma ascendente dos cubos sugere crescimento, progresso e expansão. \\n* **Slogan:** \\\"Expandindo Horizontes\\\" complementa a mensagem visual da logomarca, reforçando a ideia de que a empresa está na vanguarda da tecnologia e da inovação.\\n\\nNo geral, a logomarca da VixMetaverso é eficaz em comunicar a sua identidade e área de atuação. Ela é moderna, visualmente atraente e memorável. \\n\\n**Sugestões:**\\n\\n* **Tipografia:** A tipografia atual é simples e legível, mas poderia ser mais distintiva para reforçar a identidade visual.\\n* **Espaçamento:** O espaçamento entre o símbolo e o texto poderia ser ajustado para melhorar o equilíbrio visual.\\n\\nLembre-se de que o design de logomarcas é subjetivo, e o mais importante é que a logomarca seja eficaz em comunicar a mensagem da empresa ao seu público-alvo.\"]\n",
        "  },\n",
        "])\n",
        "\n",
        "convo.send_message(\"você consegue relacionar algum elemento da imagem à blockchain?\")\n",
        "print(convo.last.text)\n",
        "for uploaded_file in uploaded_files:\n",
        "  genai.delete_file(name=uploaded_file.name)"
      ]
    }
  ]
}