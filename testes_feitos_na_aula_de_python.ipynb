{
  "nbformat": 4,
  "nbformat_minor": 0,
  "metadata": {
    "colab": {
      "provenance": [],
      "authorship_tag": "ABX9TyPi8oc6aSZX5lLuU2102LWB",
      "include_colab_link": true
    },
    "kernelspec": {
      "name": "python3",
      "display_name": "Python 3"
    },
    "language_info": {
      "name": "python"
    }
  },
  "cells": [
    {
      "cell_type": "markdown",
      "metadata": {
        "id": "view-in-github",
        "colab_type": "text"
      },
      "source": [
        "<a href=\"https://colab.research.google.com/github/Guerrieri-vix/gemini_projetcts/blob/main/testes_feitos_na_aula_de_python.ipynb\" target=\"_parent\"><img src=\"https://colab.research.google.com/assets/colab-badge.svg\" alt=\"Open In Colab\"/></a>"
      ]
    },
    {
      "cell_type": "code",
      "execution_count": 43,
      "metadata": {
        "colab": {
          "base_uri": "https://localhost:8080/",
          "height": 106
        },
        "id": "4J-1PwJ0nbh7",
        "outputId": "bdf7d54b-b8d2-4fb2-e81b-0f6ef2f88a86"
      },
      "outputs": [
        {
          "output_type": "error",
          "ename": "SyntaxError",
          "evalue": "invalid syntax (<ipython-input-43-760864757e6e>, line 16)",
          "traceback": [
            "\u001b[0;36m  File \u001b[0;32m\"<ipython-input-43-760864757e6e>\"\u001b[0;36m, line \u001b[0;32m16\u001b[0m\n\u001b[0;31m    int numero\u001b[0m\n\u001b[0m        ^\u001b[0m\n\u001b[0;31mSyntaxError\u001b[0m\u001b[0;31m:\u001b[0m invalid syntax\n"
          ]
        }
      ],
      "source": [
        "# importar o requets para a chamada da api e o random para gerar números aleatórios\n",
        "import requests, random\n",
        "url = \"https://raw.githubusercontent.com/guilhermeonrails/api-imersao-ia/main/words.json\"\n",
        "\n",
        "\n",
        "resposta = requests.get(url)\n",
        "data = resposta.json()\n",
        "type(data)\n",
        "data[0]\n",
        "data[len(data)-1]\n",
        "data[-1]\n",
        "palavra_secreta=random.choice(data)\n",
        "palavra_secreta[\"palavra\"]\n",
        "palavra_secreta[\"dica\"]\n",
        "print(len(palavra_secreta[\"palavra\"]), palavra_secreta[\"dica\"], palavra_secreta[\"palavra\"])\n"
      ]
    }
  ]
}